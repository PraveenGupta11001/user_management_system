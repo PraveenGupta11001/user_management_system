{
 "cells": [
  {
   "cell_type": "code",
   "execution_count": 3,
   "metadata": {},
   "outputs": [],
   "source": [
    "strs = [\"flower\",\"flow\",\"flight\"]\n",
    "# Output: \"fl\"\n",
    "# strs = [\"reflower\",\"flow\",\"flight\"]"
   ]
  },
  {
   "cell_type": "code",
   "execution_count": 83,
   "metadata": {},
   "outputs": [
    {
     "data": {
      "text/plain": [
       "'fl'"
      ]
     },
     "execution_count": 83,
     "metadata": {},
     "output_type": "execute_result"
    }
   ],
   "source": [
    "temp_pref = ''\n",
    "comm_pref = sorted(strs, key=len)[0]\n",
    "complen = 0\n",
    "\n",
    "for i in range(len(strs)):\n",
    "    if comm_pref in strs[i]:\n",
    "        continue\n",
    "    else:\n",
    "        for j in range(len(comm_pref)):\n",
    "            if comm_pref[j] == strs[i][j]:\n",
    "                temp_pref += strs[i][j]\n",
    "            else:\n",
    "                break\n",
    "\n",
    "    comm_pref = temp_pref\n",
    "    temp_pref = ''\n",
    "\n",
    "        \n",
    "comm_pref"
   ]
  },
  {
   "cell_type": "code",
   "execution_count": 75,
   "metadata": {},
   "outputs": [
    {
     "data": {
      "text/plain": [
       "True"
      ]
     },
     "execution_count": 75,
     "metadata": {},
     "output_type": "execute_result"
    }
   ],
   "source": [
    "'a' in strs"
   ]
  },
  {
   "cell_type": "code",
   "execution_count": 1,
   "metadata": {},
   "outputs": [],
   "source": [
    "strs = [\"dog\",\"racecar\",\"car\"]"
   ]
  },
  {
   "cell_type": "code",
   "execution_count": 4,
   "metadata": {},
   "outputs": [
    {
     "data": {
      "text/plain": [
       "'fl'"
      ]
     },
     "execution_count": 4,
     "metadata": {},
     "output_type": "execute_result"
    }
   ],
   "source": [
    "temp_pref = ''\n",
    "comm_pref = sorted(strs, key=len)[0]\n",
    "complen = 0\n",
    "\n",
    "for i in range(len(strs)):\n",
    "    for j in range(len(comm_pref)):\n",
    "        if comm_pref[j] == strs[i][j]:\n",
    "            temp_pref += strs[i][j]\n",
    "        else:\n",
    "            break\n",
    "\n",
    "    comm_pref = temp_pref\n",
    "    temp_pref = ''\n",
    "\n",
    "        \n",
    "comm_pref"
   ]
  },
  {
   "cell_type": "code",
   "execution_count": null,
   "metadata": {},
   "outputs": [],
   "source": []
  },
  {
   "cell_type": "code",
   "execution_count": null,
   "metadata": {},
   "outputs": [],
   "source": [
    "Running server of message to print in cmd line\n",
    "python -m aiosmtpd -n -l localhost:1025"
   ]
  },
  {
   "cell_type": "code",
   "execution_count": null,
   "metadata": {},
   "outputs": [],
   "source": [
    "EMAIL_HOST = \"smtp.mailgun.org\"\n",
    "EMAIL_PORT = 587\n",
    "EMAIL_HOST_USER = os.environ.get(\"EMAIL_HOST_USER\")\n",
    "EMAIL_HOST_PASSWORD = os.environ.get(\"EMAIL_HOST_PASSWORD\")\n",
    "EMAIL_USE_TLS = True\n",
    "\n",
    "\n",
    "PowerShell\n",
    "$env:EMAIL_HOST = \"smtp.mailgun.org\"\n",
    "$env:EMAIL_PORT = 587\n",
    "$env:EMAIL_HOST_USER = \"postmaster@sandbox32c178fb7e38459f993f21f4e743faf9.mailgun.org\"\n",
    "$env:EMAIL_HOST_PASSWORD = \"b042c5e9031f9f4cf40cb598ec669119-51356527-4a429adb\""
   ]
  },
  {
   "cell_type": "code",
   "execution_count": null,
   "metadata": {},
   "outputs": [],
   "source": []
  }
 ],
 "metadata": {
  "kernelspec": {
   "display_name": "Python 3",
   "language": "python",
   "name": "python3"
  },
  "language_info": {
   "codemirror_mode": {
    "name": "ipython",
    "version": 3
   },
   "file_extension": ".py",
   "mimetype": "text/x-python",
   "name": "python",
   "nbconvert_exporter": "python",
   "pygments_lexer": "ipython3",
   "version": "3.10.11"
  }
 },
 "nbformat": 4,
 "nbformat_minor": 2
}
